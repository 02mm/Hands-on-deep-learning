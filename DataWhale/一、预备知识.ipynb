{
 "cells": [
  {
   "cell_type": "markdown",
   "id": "cab93420",
   "metadata": {},
   "source": [
    "<p style=\"font-size:30px;font-weight:700;\">动手学习深度学习</p>\n",
    "\n",
    "## 预备知识\n",
    "### 安装\n",
    "安装pytorch，前提，有anconda并且已经有jupyter和环境。 <br>\n",
    "https://pytorch.org/get-started/locally/, 访问官网 \n",
    "![image-20230318225254518](https://notebook-1313307098.cos.ap-nanjing.myqcloud.com/nonebook/20230318225105.png)\n",
    "然后自己选择，复制下面的命令到conda新建的环境终端里开始下载。<br>\n",
    "内网穿透建议参考官网文档：https://jupyter-notebook.readthedocs.io/en/stable/public_server.html"
   ]
  },
  {
   "cell_type": "code",
   "execution_count": 2,
   "id": "d4f49632",
   "metadata": {},
   "outputs": [],
   "source": [
    "import torch"
   ]
  },
  {
   "cell_type": "markdown",
   "id": "22b8f474",
   "metadata": {},
   "source": [
    "没有报错，说明torch安装成功。\n",
    "\n",
    "### 数据操作\n",
    "为了能够完成各种数据操作，我们需要某种方法来存储和操作数据。 通常，我们需要做两件重要的事：（1）获取数据；（2）将数据读入计算机后对其进行处理。 如果没有某种方法来存储数据，那么获取数据是没有意义的。<br>\n",
    "\n",
    "首先，我们介绍的n维数组，也称为张量（tensor）。 使用过Python中NumPy计算包的读者会对本部分很熟悉。 无论使用哪个深度学习框架，它的张量类（在MXNet中为ndarray， 在PyTorch和TensorFlow中为Tensor）都与Numpy的ndarray类似。 但深度学习框架又比Numpy的ndarray多一些重要功能： 首先，GPU很好地支持加速计算，而NumPy仅支持CPU计算； 其次，张量类支持自动微分。 这些功能使得张量类更适合深度学习。 如果没有特殊说明，本书中所说的张量均指的是张量类的实例。"
   ]
  },
  {
   "cell_type": "code",
   "execution_count": 80,
   "id": "c2222fc7",
   "metadata": {},
   "outputs": [
    {
     "data": {
      "text/plain": [
       "tensor([ 0,  1,  2,  3,  4,  5,  6,  7,  8,  9, 10, 11])"
      ]
     },
     "execution_count": 80,
     "metadata": {},
     "output_type": "execute_result"
    }
   ],
   "source": [
    "# 创建一个张量\n",
    "x = torch.arange(12)\n",
    "x"
   ]
  },
  {
   "cell_type": "code",
   "execution_count": 6,
   "id": "a21f7eb4",
   "metadata": {},
   "outputs": [
    {
     "data": {
      "text/plain": [
       "torch.Size([12])"
      ]
     },
     "execution_count": 6,
     "metadata": {},
     "output_type": "execute_result"
    }
   ],
   "source": [
    "# 访问张量的形状和元素总数\n",
    "x.shape"
   ]
  },
  {
   "cell_type": "code",
   "execution_count": 8,
   "id": "881e6988",
   "metadata": {},
   "outputs": [
    {
     "data": {
      "text/plain": [
       "12"
      ]
     },
     "execution_count": 8,
     "metadata": {},
     "output_type": "execute_result"
    }
   ],
   "source": [
    "# 元素总数\n",
    "x.numel()"
   ]
  },
  {
   "cell_type": "markdown",
   "id": "72c6d269",
   "metadata": {},
   "source": [
    "要改变一个张量的形状而不改变元素量和值，调用`reshape`函数"
   ]
  },
  {
   "cell_type": "code",
   "execution_count": 82,
   "id": "b7acf1b5",
   "metadata": {},
   "outputs": [
    {
     "data": {
      "text/plain": [
       "tensor([[ 0,  1,  2,  3],\n",
       "        [ 4,  5,  6,  7],\n",
       "        [ 8,  9, 10, 11]])"
      ]
     },
     "execution_count": 82,
     "metadata": {},
     "output_type": "execute_result"
    }
   ],
   "source": [
    "x = x.reshape()\n",
    "x"
   ]
  },
  {
   "cell_type": "code",
   "execution_count": 10,
   "id": "e5368f00",
   "metadata": {},
   "outputs": [
    {
     "data": {
      "text/plain": [
       "torch.Size([3, 4])"
      ]
     },
     "execution_count": 10,
     "metadata": {},
     "output_type": "execute_result"
    }
   ],
   "source": [
    "x.shape"
   ]
  },
  {
   "cell_type": "markdown",
   "id": "c470b5ab",
   "metadata": {},
   "source": [
    "使用全0、全1、其他常量或者从特定分布中随机采样的数字"
   ]
  },
  {
   "cell_type": "code",
   "execution_count": 11,
   "id": "e4839df5",
   "metadata": {},
   "outputs": [
    {
     "data": {
      "text/plain": [
       "tensor([[[0., 0., 0., 0.],\n",
       "         [0., 0., 0., 0.],\n",
       "         [0., 0., 0., 0.]],\n",
       "\n",
       "        [[0., 0., 0., 0.],\n",
       "         [0., 0., 0., 0.],\n",
       "         [0., 0., 0., 0.]]])"
      ]
     },
     "execution_count": 11,
     "metadata": {},
     "output_type": "execute_result"
    }
   ],
   "source": [
    "# 全0\n",
    "torch.zeros((2,3,4))"
   ]
  },
  {
   "cell_type": "code",
   "execution_count": 13,
   "id": "6d896323",
   "metadata": {},
   "outputs": [
    {
     "data": {
      "text/plain": [
       "tensor([[[1., 1., 1., 1.],\n",
       "         [1., 1., 1., 1.],\n",
       "         [1., 1., 1., 1.]],\n",
       "\n",
       "        [[1., 1., 1., 1.],\n",
       "         [1., 1., 1., 1.],\n",
       "         [1., 1., 1., 1.]]])"
      ]
     },
     "execution_count": 13,
     "metadata": {},
     "output_type": "execute_result"
    }
   ],
   "source": [
    "# 全1\n",
    "torch.ones((2,3,4))"
   ]
  },
  {
   "cell_type": "code",
   "execution_count": 14,
   "id": "d23e4400",
   "metadata": {},
   "outputs": [
    {
     "data": {
      "text/plain": [
       "tensor([[ 1.7191,  0.3106, -1.0100, -1.1257],\n",
       "        [ 2.4160,  1.4670,  1.2344, -0.6265],\n",
       "        [-0.5450,  1.8891, -0.0472, -0.7566]])"
      ]
     },
     "execution_count": 14,
     "metadata": {},
     "output_type": "execute_result"
    }
   ],
   "source": [
    "# 随机\n",
    "torch.randn(3,4)"
   ]
  },
  {
   "cell_type": "markdown",
   "id": "7bc8373b",
   "metadata": {},
   "source": [
    "通过提供包含数值的 Python 列表（或嵌套列表）来为所需张量中的每个元素赋予确定值"
   ]
  },
  {
   "cell_type": "code",
   "execution_count": 16,
   "id": "09a1fc94",
   "metadata": {},
   "outputs": [
    {
     "data": {
      "text/plain": [
       "tensor([[2, 0, 0, 2],\n",
       "        [0, 1, 2, 2],\n",
       "        [1, 2, 0, 3]])"
      ]
     },
     "execution_count": 16,
     "metadata": {},
     "output_type": "execute_result"
    }
   ],
   "source": [
    "torch.tensor([[2,0,0,2],[0,1,2,2],[1,2,0,3]])"
   ]
  },
  {
   "cell_type": "markdown",
   "id": "83b2b40b",
   "metadata": {},
   "source": [
    "### 运算符\n",
    "![](https://notebook-1313307098.cos.ap-nanjing.myqcloud.com/nonebook/20230320151840.png)\n",
    "常见的标准算术运算符（`+`、`-`、`*`、`/` 和 `**` ）都可以被升级为按元素运算"
   ]
  },
  {
   "cell_type": "code",
   "execution_count": 19,
   "id": "38daf3ae",
   "metadata": {},
   "outputs": [
    {
     "data": {
      "text/plain": [
       "(tensor([3., 4., 5., 6.]),\n",
       " tensor([-1.,  0.,  1.,  2.]),\n",
       " tensor([2., 4., 6., 8.]),\n",
       " tensor([ 1.,  4.,  9., 16.]),\n",
       " tensor([0.5000, 1.0000, 1.5000, 2.0000]))"
      ]
     },
     "execution_count": 19,
     "metadata": {},
     "output_type": "execute_result"
    }
   ],
   "source": [
    "x = torch.tensor([1.0,2,3,4])\n",
    "y = torch.tensor([2,2,2,2])\n",
    "x+y,x-y,x*y,x**y,x/y"
   ]
  },
  {
   "cell_type": "code",
   "execution_count": 21,
   "id": "0184b071",
   "metadata": {},
   "outputs": [
    {
     "data": {
      "text/plain": [
       "tensor([ 2.7183,  7.3891, 20.0855, 54.5981])"
      ]
     },
     "execution_count": 21,
     "metadata": {},
     "output_type": "execute_result"
    }
   ],
   "source": [
    "# 还有指数运算，返回以e为底，x中元素为幂的张量\n",
    "torch.exp(x)"
   ]
  },
  {
   "cell_type": "markdown",
   "id": "0df27233",
   "metadata": {},
   "source": [
    "还可以把多个张量连起来，横着连竖着连。。。"
   ]
  },
  {
   "cell_type": "code",
   "execution_count": 84,
   "id": "0a573190",
   "metadata": {},
   "outputs": [
    {
     "data": {
      "text/plain": [
       "(tensor([[ 0.,  1.,  2.,  3.],\n",
       "         [ 4.,  5.,  6.,  7.],\n",
       "         [ 8.,  9., 10., 11.],\n",
       "         [ 2.,  0.,  0.,  2.],\n",
       "         [ 0.,  1.,  2.,  2.],\n",
       "         [ 3.,  4.,  5.,  1.]]),\n",
       " tensor([[ 0.,  1.,  2.,  3.,  2.,  0.,  0.,  2.],\n",
       "         [ 4.,  5.,  6.,  7.,  0.,  1.,  2.,  2.],\n",
       "         [ 8.,  9., 10., 11.,  3.,  4.,  5.,  1.]]))"
      ]
     },
     "execution_count": 84,
     "metadata": {},
     "output_type": "execute_result"
    }
   ],
   "source": [
    "x = torch.arange(12,dtype=torch.float32).reshape((3,4))\n",
    "y = torch.tensor([[2.0,0,0,2],[0,1,2,2],[3,4,5,1]])\n",
    "torch.cat((x,y),dim=0),torch.cat((x,y),dim=1)"
   ]
  },
  {
   "cell_type": "markdown",
   "id": "c57aa835",
   "metadata": {},
   "source": [
    "通过 逻辑运算符 构建二元张量"
   ]
  },
  {
   "cell_type": "code",
   "execution_count": 26,
   "id": "23472b1c",
   "metadata": {},
   "outputs": [
    {
     "data": {
      "text/plain": [
       "(tensor([[False, False, False, False],\n",
       "         [False, False, False, False],\n",
       "         [False, False, False, False]]),\n",
       " tensor([[False,  True,  True,  True],\n",
       "         [ True,  True,  True,  True],\n",
       "         [ True,  True,  True,  True]]))"
      ]
     },
     "execution_count": 26,
     "metadata": {},
     "output_type": "execute_result"
    }
   ],
   "source": [
    "x == y,x > y"
   ]
  },
  {
   "cell_type": "code",
   "execution_count": 28,
   "id": "6e2ad106",
   "metadata": {},
   "outputs": [
    {
     "data": {
      "text/plain": [
       "tensor(66.)"
      ]
     },
     "execution_count": 28,
     "metadata": {},
     "output_type": "execute_result"
    }
   ],
   "source": [
    "x.sum()"
   ]
  },
  {
   "cell_type": "markdown",
   "id": "346df78e",
   "metadata": {},
   "source": [
    "### 广播机制\n",
    "在上面的部分中，我们看到了如何在相同形状的两个张量上执行按元素操作。 在某些情况下，即使形状不同，我们仍然可以通过调用 广播机制（broadcasting mechanism）来执行按元素操作。 这种机制的工作方式如下：<br>\n",
    "1. 通过适当复制元素来扩展一个或两个数组，以便在转换之后，两个张量具有相同的形状；\n",
    "2. 对生成的数组执行按元素操作。\n",
    "\n",
    "在大多数情况下，我们将沿着数组中长度为1的轴进行广播，如下例子："
   ]
  },
  {
   "cell_type": "code",
   "execution_count": 29,
   "id": "188d4d75",
   "metadata": {},
   "outputs": [
    {
     "data": {
      "text/plain": [
       "(tensor([[0],\n",
       "         [1],\n",
       "         [2]]),\n",
       " tensor([[0, 1]]))"
      ]
     },
     "execution_count": 29,
     "metadata": {},
     "output_type": "execute_result"
    }
   ],
   "source": [
    "a = torch.arange(3).reshape((3,1))\n",
    "b = torch.arange(2).reshape((1,2))\n",
    "a,b"
   ]
  },
  {
   "cell_type": "code",
   "execution_count": 30,
   "id": "ecaa5c38",
   "metadata": {},
   "outputs": [
    {
     "data": {
      "text/plain": [
       "tensor([[0, 1],\n",
       "        [1, 2],\n",
       "        [2, 3]])"
      ]
     },
     "execution_count": 30,
     "metadata": {},
     "output_type": "execute_result"
    }
   ],
   "source": [
    "a+b"
   ]
  },
  {
   "cell_type": "markdown",
   "id": "a2e76a05",
   "metadata": {},
   "source": [
    "### 索引和切片\n",
    "元素访问"
   ]
  },
  {
   "cell_type": "code",
   "execution_count": 46,
   "id": "7722804c",
   "metadata": {},
   "outputs": [
    {
     "data": {
      "text/plain": [
       "(tensor([[ 0.,  1.,  2.,  3.],\n",
       "         [ 4.,  5.,  6.,  7.],\n",
       "         [ 8.,  9., 10., 11.]]),\n",
       " tensor([4., 5., 6., 7.]),\n",
       " tensor([[ 4.,  5.,  6.,  7.],\n",
       "         [ 8.,  9., 10., 11.]]),\n",
       " tensor(7.))"
      ]
     },
     "execution_count": 46,
     "metadata": {},
     "output_type": "execute_result"
    }
   ],
   "source": [
    "x,x[-2],x[1:3],x[1,3]"
   ]
  },
  {
   "cell_type": "markdown",
   "id": "48bb1b93",
   "metadata": {},
   "source": [
    "还可以写入修改元素"
   ]
  },
  {
   "cell_type": "code",
   "execution_count": 36,
   "id": "9e1983e9",
   "metadata": {},
   "outputs": [
    {
     "data": {
      "text/plain": [
       "tensor(666.)"
      ]
     },
     "execution_count": 36,
     "metadata": {},
     "output_type": "execute_result"
    }
   ],
   "source": [
    "x[1,3] = 666\n",
    "x[1,3]"
   ]
  },
  {
   "cell_type": "code",
   "execution_count": 48,
   "id": "65e9b644",
   "metadata": {},
   "outputs": [
    {
     "data": {
      "text/plain": [
       "tensor([[ 0.,  0.,  0.,  3.],\n",
       "        [ 4.,  0.,  0.,  7.],\n",
       "        [ 8.,  9., 10., 11.]])"
      ]
     },
     "execution_count": 48,
     "metadata": {},
     "output_type": "execute_result"
    }
   ],
   "source": [
    "# 批量赋值\n",
    "x[0:2,1:3] = 0\n",
    "x"
   ]
  },
  {
   "cell_type": "markdown",
   "id": "ffafac71",
   "metadata": {},
   "source": [
    "### 节省内存\n",
    "运行一些操作可能会导致为新结果分配内存。 例如，如果我们用Y = X + Y，我们将取消引用Y指向的张量，而是指向新分配的内存处的张量。<br>\n",
    "在下面的例子中，我们用Python的id()函数演示了这一点， 它给我们提供了内存中引用对象的确切地址。 运行Y = Y + X后，我们会发现id(Y)指向另一个位置。 这是因为Python首先计算Y + X，为结果分配新的内存，然后使Y指向内存中的这个新位置"
   ]
  },
  {
   "cell_type": "code",
   "execution_count": 49,
   "id": "860faafd",
   "metadata": {},
   "outputs": [
    {
     "data": {
      "text/plain": [
       "False"
      ]
     },
     "execution_count": 49,
     "metadata": {},
     "output_type": "execute_result"
    }
   ],
   "source": [
    "before = id(y)\n",
    "y = y + x\n",
    "id(y) == before"
   ]
  },
  {
   "cell_type": "markdown",
   "id": "a113a894",
   "metadata": {},
   "source": [
    "这可能是不可取的，原因有两个：\n",
    "\n",
    "1. 首先，我们不想总是不必要地分配内存。在机器学习中，我们可能有数百兆的参数，并且在一秒内多次更新所有参数。通常情况下，我们希望原地执行这些更新；\n",
    "2. 如果我们不原地更新，其他引用仍然会指向旧的内存位置，这样我们的某些代码可能会无意中引用旧的参数\n",
    "\n",
    "执行原地操作,`torch.zeros_like()`,复制张量大小和形状，但所有元素为0"
   ]
  },
  {
   "cell_type": "code",
   "execution_count": 55,
   "id": "64348b45",
   "metadata": {},
   "outputs": [
    {
     "name": "stdout",
     "output_type": "stream",
     "text": [
      "1994428989584\n",
      "1994428989584\n"
     ]
    }
   ],
   "source": [
    "z = torch.zeros_like(y)\n",
    "print(id(z))\n",
    "z[:] = x + y\n",
    "print(id(z))"
   ]
  },
  {
   "cell_type": "markdown",
   "id": "802c7e47",
   "metadata": {},
   "source": [
    "如果在后续计算中没有重复使用 X，我们也可以使用` X[:] = X + Y` 或 `X += Y` 来减少操作的内存开销"
   ]
  },
  {
   "cell_type": "markdown",
   "id": "13e7482a",
   "metadata": {},
   "source": [
    "### 转化为Python其它对象\n",
    "将深度学习框架定义的张量转换为NumPy张量（ndarray）很容易，反之也同样容易。 torch张量和numpy数组将共享它们的底层内存，就地操作更改一个张量也会同时更改另一个张量"
   ]
  },
  {
   "cell_type": "code",
   "execution_count": 57,
   "id": "d2d1400c",
   "metadata": {},
   "outputs": [
    {
     "data": {
      "text/plain": [
       "(array([[ 0.,  0.,  0.,  3.],\n",
       "        [ 4.,  0.,  0.,  7.],\n",
       "        [ 8.,  9., 10., 11.]], dtype=float32),\n",
       " numpy.ndarray,\n",
       " tensor([[ 0.,  0.,  0.,  3.],\n",
       "         [ 4.,  0.,  0.,  7.],\n",
       "         [ 8.,  9., 10., 11.]]),\n",
       " torch.Tensor)"
      ]
     },
     "execution_count": 57,
     "metadata": {},
     "output_type": "execute_result"
    }
   ],
   "source": [
    "A = x.numpy()\n",
    "B = torch.tensor(A)\n",
    "A,type(A),B,type(B)"
   ]
  },
  {
   "cell_type": "markdown",
   "id": "04d23b7a",
   "metadata": {},
   "source": [
    "还可以将大小为1的张量转化为python标量"
   ]
  },
  {
   "cell_type": "code",
   "execution_count": 58,
   "id": "7df86478",
   "metadata": {},
   "outputs": [
    {
     "data": {
      "text/plain": [
       "(tensor([3.5000]), 3.5, 3)"
      ]
     },
     "execution_count": 58,
     "metadata": {},
     "output_type": "execute_result"
    }
   ],
   "source": [
    "c = torch.tensor([3.5])\n",
    "c,c.item(),int(c)"
   ]
  },
  {
   "cell_type": "markdown",
   "id": "ec901cce",
   "metadata": {},
   "source": [
    "### 小结\n",
    "深度学习存储和操作数据的主要接口是张量（n维数组）。它提供了各种功能，包括基本数学运算、广播、索引、切片、内存节省和转换其他Python对象。\n",
    "### 练习\n",
    "1. 运行本节中的代码。将本节中的条件语句X == Y更改为X < Y或X > Y，然后看看你可以得到什么样的张量。\n",
    "2. 用其他形状（例如三维张量）替换广播机制中按元素操作的两个张量。结果是否与预期相同？"
   ]
  },
  {
   "cell_type": "code",
   "execution_count": 59,
   "id": "0c7e317b",
   "metadata": {},
   "outputs": [
    {
     "data": {
      "text/plain": [
       "(tensor([[0., 1., 2.],\n",
       "         [3., 4., 5.]]),\n",
       " tensor([[2, 1, 3],\n",
       "         [5, 2, 6]]))"
      ]
     },
     "execution_count": 59,
     "metadata": {},
     "output_type": "execute_result"
    }
   ],
   "source": [
    "x = torch.arange(6,dtype = torch.float32).reshape(2,3)\n",
    "y = torch.tensor([[2,1,3],[5,2,6]])\n",
    "x,y"
   ]
  },
  {
   "cell_type": "code",
   "execution_count": 61,
   "id": "207b8a25",
   "metadata": {
    "scrolled": true
   },
   "outputs": [
    {
     "data": {
      "text/plain": [
       "(tensor([[False,  True, False],\n",
       "         [False, False, False]]),\n",
       " tensor([[False, False, False],\n",
       "         [False,  True, False]]))"
      ]
     },
     "execution_count": 61,
     "metadata": {},
     "output_type": "execute_result"
    }
   ],
   "source": [
    "x == y,x > y"
   ]
  },
  {
   "cell_type": "code",
   "execution_count": 78,
   "id": "daab7124",
   "metadata": {
    "scrolled": true
   },
   "outputs": [
    {
     "data": {
      "text/plain": [
       "(tensor([[[ 0.,  1.],\n",
       "          [ 2.,  3.],\n",
       "          [ 4.,  5.]],\n",
       " \n",
       "         [[ 6.,  7.],\n",
       "          [ 8.,  9.],\n",
       "          [10., 11.]]]),\n",
       " tensor([[[0],\n",
       "          [1],\n",
       "          [2]],\n",
       " \n",
       "         [[3],\n",
       "          [4],\n",
       "          [5]]]))"
      ]
     },
     "execution_count": 78,
     "metadata": {},
     "output_type": "execute_result"
    }
   ],
   "source": [
    "X = torch.arange(12,dtype = torch.float32).reshape(2,3,2)\n",
    "Y = torch.arange(6).reshape(2,3,1)\n",
    "X,Y"
   ]
  },
  {
   "cell_type": "code",
   "execution_count": 79,
   "id": "3ded9366",
   "metadata": {
    "scrolled": true
   },
   "outputs": [
    {
     "data": {
      "text/plain": [
       "tensor([[[ 0.,  1.],\n",
       "         [ 3.,  4.],\n",
       "         [ 6.,  7.]],\n",
       "\n",
       "        [[ 9., 10.],\n",
       "         [12., 13.],\n",
       "         [15., 16.]]])"
      ]
     },
     "execution_count": 79,
     "metadata": {},
     "output_type": "execute_result"
    }
   ],
   "source": [
    "X + Y"
   ]
  },
  {
   "cell_type": "markdown",
   "id": "c543f045",
   "metadata": {},
   "source": [
    "通过做题发现一个问题，使用广播机制是有前提的，比如一个（1，3）和（2，2）就报错了\n",
    "<br>\n",
    "![](https://notebook-1313307098.cos.ap-nanjing.myqcloud.com/nonebook/20230320154057.png)\n",
    "<br>\n",
    "至于为何报错我们可以回到1.2.3中，（1，2）和（3，1），可以发现同一维度广播时必须是整数倍关系。当然其实按理来书也是可以的，取两数的最小公倍数，（1，3），（2，2）都变成（2，6），但人家就是这么设计肯定是有原因的，所以我们知道就行。"
   ]
  },
  {
   "cell_type": "markdown",
   "id": "24cf879e",
   "metadata": {},
   "source": [
    "### 数据预处理\n",
    "为了能用深度学习来解决现实世界的问题，我们经常从预处理原始数据开始， 而不是从那些准备好的张量格式数据开始。 在Python中常用的数据分析工具中，我们通常使用pandas软件包。 像庞大的Python生态系统中的许多其他扩展包一样，pandas可以与张量兼容。 本节我们将简要介绍使用pandas预处理原始数据，并将原始数据转换为张量格式的步骤。 后面的章节将介绍更多的数据预处理技术<br>\n",
    "#### 读取数据集\n",
    "创建一个人工数据集，并存储在csv文件"
   ]
  },
  {
   "cell_type": "code",
   "execution_count": 86,
   "id": "2a083352",
   "metadata": {},
   "outputs": [],
   "source": [
    "import os\n",
    "os.makedirs(os.path.join('.','data'),exist_ok=True)\n",
    "data_file = os.path.join('.','data','house_tiny.csv')\n",
    "with open(data_file,'w') as f:\n",
    "    f.write('NumRooms,Alley,Price\\n')  # 列名\n",
    "    f.write('NA,Pave,127500\\n')  # 每行表示一个数据样本\n",
    "    f.write('2,NA,106000\\n')\n",
    "    f.write('4,NA,178100\\n')\n",
    "    f.write('NA,NA,140000\\n')"
   ]
  },
  {
   "cell_type": "code",
   "execution_count": 91,
   "id": "47a340a4",
   "metadata": {
    "scrolled": true
   },
   "outputs": [
    {
     "data": {
      "text/html": [
       "<div>\n",
       "<style scoped>\n",
       "    .dataframe tbody tr th:only-of-type {\n",
       "        vertical-align: middle;\n",
       "    }\n",
       "\n",
       "    .dataframe tbody tr th {\n",
       "        vertical-align: top;\n",
       "    }\n",
       "\n",
       "    .dataframe thead th {\n",
       "        text-align: right;\n",
       "    }\n",
       "</style>\n",
       "<table border=\"1\" class=\"dataframe\">\n",
       "  <thead>\n",
       "    <tr style=\"text-align: right;\">\n",
       "      <th></th>\n",
       "      <th>NumRooms</th>\n",
       "      <th>Alley</th>\n",
       "      <th>Price</th>\n",
       "    </tr>\n",
       "  </thead>\n",
       "  <tbody>\n",
       "    <tr>\n",
       "      <th>0</th>\n",
       "      <td>NaN</td>\n",
       "      <td>Pave</td>\n",
       "      <td>127500</td>\n",
       "    </tr>\n",
       "    <tr>\n",
       "      <th>1</th>\n",
       "      <td>2.0</td>\n",
       "      <td>NaN</td>\n",
       "      <td>106000</td>\n",
       "    </tr>\n",
       "    <tr>\n",
       "      <th>2</th>\n",
       "      <td>4.0</td>\n",
       "      <td>NaN</td>\n",
       "      <td>178100</td>\n",
       "    </tr>\n",
       "    <tr>\n",
       "      <th>3</th>\n",
       "      <td>NaN</td>\n",
       "      <td>NaN</td>\n",
       "      <td>140000</td>\n",
       "    </tr>\n",
       "  </tbody>\n",
       "</table>\n",
       "</div>"
      ],
      "text/plain": [
       "   NumRooms Alley   Price\n",
       "0       NaN  Pave  127500\n",
       "1       2.0   NaN  106000\n",
       "2       4.0   NaN  178100\n",
       "3       NaN   NaN  140000"
      ]
     },
     "execution_count": 91,
     "metadata": {},
     "output_type": "execute_result"
    }
   ],
   "source": [
    "import pandas as pd\n",
    "data = pd.read_csv(data_file)\n",
    "data"
   ]
  },
  {
   "cell_type": "markdown",
   "id": "c286b241",
   "metadata": {},
   "source": [
    "#### 处理缺失值\n",
    "注意，“NaN”项代表缺失值。 为了处理缺失的数据，典型的方法包括插值法和删除法， 其中插值法用一个替代值弥补缺失值，而删除法则直接忽略缺失值。 在这里，我们将考虑插值法。<br>\n",
    "\n",
    "通过位置索引iloc，我们将data分成inputs和outputs， 其中前者为data的前两列，而后者为data的最后一列。 对于inputs中缺少的数值，我们用同一列的均值替换“NaN”项。<br>\n",
    "补充一点知识，`pd.fillna()`是填充空缺值，只接受标量或者ArrayLike(类数组，可以看作一个有索引的列表)，`pd.mean()`是求平均值，pd.mean()返回一个series。"
   ]
  },
  {
   "cell_type": "code",
   "execution_count": 122,
   "id": "97f4a533",
   "metadata": {},
   "outputs": [
    {
     "data": {
      "text/html": [
       "<div>\n",
       "<style scoped>\n",
       "    .dataframe tbody tr th:only-of-type {\n",
       "        vertical-align: middle;\n",
       "    }\n",
       "\n",
       "    .dataframe tbody tr th {\n",
       "        vertical-align: top;\n",
       "    }\n",
       "\n",
       "    .dataframe thead th {\n",
       "        text-align: right;\n",
       "    }\n",
       "</style>\n",
       "<table border=\"1\" class=\"dataframe\">\n",
       "  <thead>\n",
       "    <tr style=\"text-align: right;\">\n",
       "      <th></th>\n",
       "      <th>NumRooms</th>\n",
       "      <th>Alley</th>\n",
       "    </tr>\n",
       "  </thead>\n",
       "  <tbody>\n",
       "    <tr>\n",
       "      <th>0</th>\n",
       "      <td>3.0</td>\n",
       "      <td>Pave</td>\n",
       "    </tr>\n",
       "    <tr>\n",
       "      <th>1</th>\n",
       "      <td>2.0</td>\n",
       "      <td>NaN</td>\n",
       "    </tr>\n",
       "    <tr>\n",
       "      <th>2</th>\n",
       "      <td>4.0</td>\n",
       "      <td>NaN</td>\n",
       "    </tr>\n",
       "    <tr>\n",
       "      <th>3</th>\n",
       "      <td>3.0</td>\n",
       "      <td>NaN</td>\n",
       "    </tr>\n",
       "  </tbody>\n",
       "</table>\n",
       "</div>"
      ],
      "text/plain": [
       "   NumRooms Alley\n",
       "0       3.0  Pave\n",
       "1       2.0   NaN\n",
       "2       4.0   NaN\n",
       "3       3.0   NaN"
      ]
     },
     "execution_count": 122,
     "metadata": {},
     "output_type": "execute_result"
    }
   ],
   "source": [
    "inputs,outputs = data.iloc[:,0:2],data.iloc[:,2]\n",
    "inputs = inputs.fillna(inputs.mean(numeric_only=True))\n",
    "inputs.fillna()\n",
    "inputs"
   ]
  },
  {
   "cell_type": "markdown",
   "id": "1ba6fdb0",
   "metadata": {},
   "source": [
    "补充一下`pd.get_dummies()`，官方文档不易理解，只说这里用到的dummy_na。<br>\n",
    "`get_dummies()`是用于特征处理的，也叫`one-hot-encodin`处理，可能还是不好理解，再简单的说一个二维表里有一列是`gender`，性别有`male`和`famale`，那么这一列是有两个特征，然后把`gender`这一列换成`gender_male`和`gender_famale`分别体现`gender`的两个特征，那么符合male的为1，否则为0，famale同理。`get_dummies()`就是这么个作用。<br>\n",
    "然后`dummy_na`这个参数默认为`False`，为`True`就是说我把`nan`也看作一个特征，特别关注一下。"
   ]
  }
 ],
 "metadata": {
  "kernelspec": {
   "display_name": "Python 3 (ipykernel)",
   "language": "python",
   "name": "python3"
  },
  "language_info": {
   "codemirror_mode": {
    "name": "ipython",
    "version": 3
   },
   "file_extension": ".py",
   "mimetype": "text/x-python",
   "name": "python",
   "nbconvert_exporter": "python",
   "pygments_lexer": "ipython3",
   "version": "3.10.7"
  },
  "toc": {
   "base_numbering": 1,
   "nav_menu": {
    "height": "429px",
    "width": "263.12px"
   },
   "number_sections": true,
   "sideBar": true,
   "skip_h1_title": false,
   "title_cell": "Table of Contents",
   "title_sidebar": "Contents",
   "toc_cell": false,
   "toc_position": {
    "height": "calc(100% - 180px)",
    "left": "10px",
    "top": "150px",
    "width": "208.966px"
   },
   "toc_section_display": true,
   "toc_window_display": true
  }
 },
 "nbformat": 4,
 "nbformat_minor": 5
}
